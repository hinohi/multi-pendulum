{
 "cells": [
  {
   "cell_type": "code",
   "execution_count": null,
   "id": "9f4aa403",
   "metadata": {},
   "outputs": [],
   "source": [
    "import sympy"
   ]
  },
  {
   "cell_type": "code",
   "execution_count": null,
   "id": "0b6065c8",
   "metadata": {},
   "outputs": [],
   "source": [
    "t = sympy.symbols('t')\n",
    "x0, x1, x2, x3, x4 = sympy.symbols('x0 x1 x2 x3 x4')\n",
    "v0 = sympy.symbols('v0')"
   ]
  },
  {
   "cell_type": "code",
   "execution_count": null,
   "id": "a3c43462",
   "metadata": {},
   "outputs": [],
   "source": [
    "b4 = (1 - t) ** 3 * x0 + 3 * t * (1 - t) ** 2 * x1 + t ** 2 * (1 - t) * x2 + t ** 3 * x3"
   ]
  },
  {
   "cell_type": "code",
   "execution_count": null,
   "id": "686aea02",
   "metadata": {},
   "outputs": [],
   "source": [
    "sympy.solve(sympy.Eq(b4.diff(t).subs(t, 0), v0), x1)"
   ]
  },
  {
   "cell_type": "code",
   "execution_count": null,
   "id": "e0e3f564",
   "metadata": {},
   "outputs": [],
   "source": [
    "j = b4.diff(t, 3).subs(x1, sympy.solve(sympy.Eq(b4.diff(t).subs(t, 0), v0), x1)[0])\n",
    "sympy.solve(sympy.Eq(j, 0), x2)"
   ]
  },
  {
   "cell_type": "code",
   "execution_count": null,
   "id": "7c528688",
   "metadata": {},
   "outputs": [],
   "source": [
    "b4.diff(t, t).simplify().coeff(x3).simplify()"
   ]
  }
 ],
 "metadata": {
  "kernelspec": {
   "display_name": "Python 3 (ipykernel)",
   "language": "python",
   "name": "python3"
  },
  "language_info": {
   "codemirror_mode": {
    "name": "ipython",
    "version": 3
   },
   "file_extension": ".py",
   "mimetype": "text/x-python",
   "name": "python",
   "nbconvert_exporter": "python",
   "pygments_lexer": "ipython3",
   "version": "3.9.6"
  }
 },
 "nbformat": 4,
 "nbformat_minor": 5
}
